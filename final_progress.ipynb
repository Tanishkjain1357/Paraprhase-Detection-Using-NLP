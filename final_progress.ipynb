{
 "cells": [
  {
   "cell_type": "code",
   "execution_count": 2,
   "metadata": {},
   "outputs": [],
   "source": [
    "import pandas as pd\n",
    "import numpy as np\n",
    "\n",
    "from sklearn.feature_extraction.text import CountVectorizer\n",
    "from sklearn.linear_model import LogisticRegression\n",
    "from nltk.tokenize import WordPunctTokenizer\n",
    "from nltk.stem.wordnet import WordNetLemmatizer\n",
    "from nltk.corpus import stopwords\n"
   ]
  },
  {
   "cell_type": "code",
   "execution_count": 26,
   "metadata": {},
   "outputs": [],
   "source": [
    "train_data = pd.read_csv('data/msr_paraphrase_corpus/msr_paraphrase_train.txt', sep = \"\\t\", header = None, names = ['class', 'id1', 'id2', 'text1', 'text2']) \n",
    "train_data = train_data.drop([0])\n",
    "train_data['text'] = train_data['text1']+' '+train_data['text2']\n",
    "train_data.drop(['id1', 'id2'], axis = 1, inplace = True) \n",
    "train_data = train_data.dropna()\n",
    "train_data['class'] = train_data['class'].apply(lambda x: int(x))\n"
   ]
  },
  {
   "cell_type": "code",
   "execution_count": 30,
   "metadata": {},
   "outputs": [
    {
     "data": {
      "text/plain": [
       "LogisticRegression(max_iter=1000)"
      ]
     },
     "execution_count": 30,
     "metadata": {},
     "output_type": "execute_result"
    }
   ],
   "source": [
    "def tok_helper(word):\n",
    "    word = word.replace(\".\",\"\").replace(\",\",\"\")\n",
    "    return word\n",
    "\n",
    "def lemma_tokenizer(text):\n",
    "    wpt = WordPunctTokenizer()\n",
    "    lemmatizer=WordNetLemmatizer()\n",
    "    return [lemmatizer.lemmatize(tok_helper(w)) for w in wpt.tokenize(text) if w not in stopwords.words('english')]\n",
    "\n",
    "vectorizer = CountVectorizer(tokenizer=lemma_tokenizer)\n",
    "text_vector = vectorizer.fit_transform(train_data['text']) \n",
    "\n",
    "classifier = LogisticRegression(max_iter=1000)\n",
    "classifier.fit(text_vector, train_data['class'].values)\n",
    "# classifier.fit"
   ]
  },
  {
   "cell_type": "code",
   "execution_count": 27,
   "metadata": {},
   "outputs": [],
   "source": [
    "# test\n",
    "test_data = pd.read_csv('data/msr_paraphrase_corpus/msr_paraphrase_test.txt', sep = \"\\t\", header = None, names = ['class', 'id1', 'id2', 'text1', 'text2']) \n",
    "test_data = test_data.drop([0])\n",
    "test_data['text'] = test_data['text1']+' '+test_data['text2']\n",
    "test_data.drop(['id1', 'id2'], axis = 1, inplace = True) \n",
    "test_data = test_data.dropna()\n",
    "test_data['class'] = test_data['class'].apply(lambda x: int(x))\n"
   ]
  },
  {
   "cell_type": "code",
   "execution_count": null,
   "metadata": {},
   "outputs": [],
   "source": []
  }
 ],
 "metadata": {
  "interpreter": {
   "hash": "916dbcbb3f70747c44a77c7bcd40155683ae19c65e1c03b4aa3499c5328201f1"
  },
  "kernelspec": {
   "display_name": "Python 3.8.10 64-bit",
   "language": "python",
   "name": "python3"
  },
  "language_info": {
   "codemirror_mode": {
    "name": "ipython",
    "version": 3
   },
   "file_extension": ".py",
   "mimetype": "text/x-python",
   "name": "python",
   "nbconvert_exporter": "python",
   "pygments_lexer": "ipython3",
   "version": "3.9.7"
  },
  "orig_nbformat": 4
 },
 "nbformat": 4,
 "nbformat_minor": 2
}
