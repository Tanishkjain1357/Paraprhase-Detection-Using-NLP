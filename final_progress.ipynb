{
 "cells": [
  {
   "cell_type": "code",
   "execution_count": 2,
   "metadata": {},
   "outputs": [],
   "source": [
    "import pandas as pd\n",
    "import numpy as np\n",
    "\n",
    "from sklearn.feature_extraction.text import CountVectorizer\n",
    "from sklearn.linear_model import LogisticRegression\n",
    "from nltk.tokenize import WordPunctTokenizer\n",
    "from nltk.stem.wordnet import WordNetLemmatizer\n",
    "from nltk.corpus import stopwords\n"
   ]
  },
  {
   "cell_type": "code",
   "execution_count": 59,
   "metadata": {},
   "outputs": [],
   "source": [
    "# making the dataset\n",
    "# train\n",
    "train_data = pd.read_csv('data/msr_paraphrase_corpus/msr_paraphrase_train.txt', sep = \"\\t\", header = None, names = ['class', 'id1', 'id2', 'text1', 'text2']) \n",
    "train_data = train_data.drop([0])\n",
    "train_data['text'] = train_data['text1']+' '+train_data['text2']\n",
    "train_data.drop(['id1', 'id2'], axis = 1, inplace = True) \n",
    "train_data = train_data.dropna()\n",
    "train_data['class'] = train_data['class'].apply(lambda x: int(x))\n",
    "\n",
    "# test\n",
    "test_data = pd.read_csv('data/msr_paraphrase_corpus/msr_paraphrase_test.txt', sep = \"\\t\", header = None, names = ['class', 'id1', 'id2', 'text1', 'text2']) \n",
    "test_data = test_data.drop([0])\n",
    "test_data['text'] = test_data['text1']+' '+test_data['text2']\n",
    "test_data.drop(['id1', 'id2'], axis = 1, inplace = True) \n",
    "test_data = test_data.dropna()\n",
    "test_data['class'] = test_data['class'].apply(lambda x: int(x))\n",
    "\n",
    "final_data = pd.concat([train_data, test_data])\n"
   ]
  },
  {
   "cell_type": "code",
   "execution_count": 15,
   "metadata": {},
   "outputs": [],
   "source": [
    "def tok_helper(word):\n",
    "    word.lower()\n",
    "    word = word.replace(\".\",\"\").replace(\",\",\"\")\n",
    "    return word.lower()\n",
    "\n",
    "def lemma_tokenizer(text):\n",
    "    wpt = WordPunctTokenizer()\n",
    "    lemmatizer=WordNetLemmatizer()\n",
    "    return [lemmatizer.lemmatize(tok_helper(w)) for w in wpt.tokenize(text) if w not in stopwords.words('english')]\n",
    "\n",
    "\n",
    "# classifier.fit"
   ]
  },
  {
   "cell_type": "code",
   "execution_count": 45,
   "metadata": {},
   "outputs": [
    {
     "name": "stdout",
     "output_type": "stream",
     "text": [
      "0.6630103595368677\n"
     ]
    }
   ],
   "source": [
    "# Word Overlap\n",
    "def predict_overlap(t1, t2):\n",
    "    t1_tok = set(lemma_tokenizer(t1))\n",
    "    t2_tok = set(lemma_tokenizer(t2))\n",
    "    common = t1_tok.intersection(t2_tok)\n",
    "    return len(common) / len(t1_tok.union(t2_tok)) > 0.5\n",
    "\n",
    "over_pred = []\n",
    "for index, row in test_data.iterrows():\n",
    "    over_pred.append(predict_overlap(row['text1'], row['text2']))\n",
    "\n",
    "c = (list(over_pred == test_data['class'].values)).count(True)\n",
    "acc = c/len(over_pred)\n",
    "print(acc)"
   ]
  },
  {
   "cell_type": "code",
   "execution_count": 41,
   "metadata": {},
   "outputs": [
    {
     "data": {
      "text/plain": [
       "0.6489945155393053"
      ]
     },
     "execution_count": 41,
     "metadata": {},
     "output_type": "execute_result"
    }
   ],
   "source": [
    "# LogReg\n",
    "vectorizer = CountVectorizer(tokenizer=lemma_tokenizer)\n",
    "final_vector = vectorizer.fit_transform(final_data['text']) \n",
    "\n",
    "classifier = LogisticRegression(max_iter=1000)\n",
    "classifier.fit(final_vector[:3941], train_data['class'].values)\n",
    "\n",
    "classifier.score(final_vector[3941:],test_data['class'])"
   ]
  },
  {
   "cell_type": "code",
   "execution_count": 57,
   "metadata": {},
   "outputs": [
    {
     "name": "stderr",
     "output_type": "stream",
     "text": [
      "/home/ameyajain/.local/lib/python3.8/site-packages/sklearn/feature_extraction/text.py:489: UserWarning: The parameter 'token_pattern' will not be used since 'tokenizer' is not None'\n",
      "  warnings.warn(\"The parameter 'token_pattern' will not be used\"\n"
     ]
    },
    {
     "name": "stdout",
     "output_type": "stream",
     "text": [
      "0.4673979280926264\n"
     ]
    }
   ],
   "source": [
    "# N-gram overlap\n",
    "n_gram_count = CountVectorizer(tokenizer=lemma_tokenizer, ngram_range=(1,3))\n",
    "def predict_overlap_n(t1, t2):\n",
    "    t1_tok = set(n_gram_count.fit([t1]).vocabulary_)\n",
    "    t2_tok = set(n_gram_count.fit([t2]).vocabulary_)    \n",
    "    common = t1_tok.intersection(t2_tok)\n",
    "    return len(common) / len(t1_tok.union(t2_tok)) > 0.5\n",
    "\n",
    "over_pred = []\n",
    "for index, row in test_data.iterrows():\n",
    "    over_pred.append(predict_overlap_n(row['text1'], row['text2']))\n",
    "\n",
    "c = (list(over_pred == test_data['class'].values)).count(True)\n",
    "acc = c/len(over_pred)\n",
    "print(acc)"
   ]
  },
  {
   "cell_type": "code",
   "execution_count": 58,
   "metadata": {},
   "outputs": [
    {
     "data": {
      "text/plain": [
       "'              precision    recall  f1-score   support\\n\\n           0       0.47      0.39      0.43       549\\n           1       0.72      0.78      0.75      1092\\n\\n    accuracy                           0.65      1641\\n   macro avg       0.59      0.59      0.59      1641\\nweighted avg       0.64      0.65      0.64      1641\\n'"
      ]
     },
     "execution_count": 58,
     "metadata": {},
     "output_type": "execute_result"
    }
   ],
   "source": [
    "from sklearn import metrics\n",
    "preds = classifier.predict(final_vector[3941:])\n",
    "report = metrics.classification_report(test_data['class'], preds, target_names=['0','1'])\n",
    "report"
   ]
  }
 ],
 "metadata": {
  "interpreter": {
   "hash": "916dbcbb3f70747c44a77c7bcd40155683ae19c65e1c03b4aa3499c5328201f1"
  },
  "kernelspec": {
   "display_name": "Python 3.8.10 64-bit",
   "language": "python",
   "name": "python3"
  },
  "language_info": {
   "codemirror_mode": {
    "name": "ipython",
    "version": 3
   },
   "file_extension": ".py",
   "mimetype": "text/x-python",
   "name": "python",
   "nbconvert_exporter": "python",
   "pygments_lexer": "ipython3",
   "version": "3.8.10"
  },
  "orig_nbformat": 4
 },
 "nbformat": 4,
 "nbformat_minor": 2
}
